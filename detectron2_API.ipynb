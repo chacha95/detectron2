{
 "cells": [
  {
   "cell_type": "code",
   "execution_count": 1,
   "metadata": {},
   "outputs": [],
   "source": [
    "Category = {\n",
    "    0:\"Samdasoo_pet\",\n",
    "    1:\"CornsilkTea_pet\",\n",
    "    2:\"Cocacola_can\",\n",
    "    3:\"Pepsi_can\",\n",
    "    4:\"BananaMilk\",\n",
    "    5:\"Coolpeace_carton\",\n",
    "    6:\"LetsbeMild_can\",\n",
    "    7:\"MycafelatteMild\",\n",
    "    8:\"MinutemaidOrange_pet\",\n",
    "    9:\"BacchusF_glass\",\n",
    "}\n"
   ]
  },
  {
   "cell_type": "code",
   "execution_count": 1,
   "metadata": {},
   "outputs": [
    {
     "ename": "AssertionError",
     "evalue": "Config file './logs/faster_rcnn_R_101_C4_3x/config.yaml' does not exist!",
     "output_type": "error",
     "traceback": [
      "\u001b[0;31m---------------------------------------------------------------------------\u001b[0m",
      "\u001b[0;31mAssertionError\u001b[0m                            Traceback (most recent call last)",
      "\u001b[0;32m<ipython-input-1-c2afb27a7ad9>\u001b[0m in \u001b[0;36m<module>\u001b[0;34m\u001b[0m\n\u001b[1;32m     12\u001b[0m \u001b[0mcfg\u001b[0m \u001b[0;34m=\u001b[0m \u001b[0mget_cfg\u001b[0m\u001b[0;34m(\u001b[0m\u001b[0;34m)\u001b[0m\u001b[0;34m\u001b[0m\u001b[0;34m\u001b[0m\u001b[0m\n\u001b[1;32m     13\u001b[0m \u001b[0mcfg\u001b[0m\u001b[0;34m.\u001b[0m\u001b[0mOUTPUT_DIR\u001b[0m \u001b[0;34m=\u001b[0m \u001b[0;34m'./logs/'\u001b[0m \u001b[0;34m+\u001b[0m \u001b[0mmodel_name\u001b[0m\u001b[0;34m\u001b[0m\u001b[0;34m\u001b[0m\u001b[0m\n\u001b[0;32m---> 14\u001b[0;31m \u001b[0mcfg\u001b[0m\u001b[0;34m.\u001b[0m\u001b[0mmerge_from_file\u001b[0m\u001b[0;34m(\u001b[0m\u001b[0mcfg\u001b[0m\u001b[0;34m.\u001b[0m\u001b[0mOUTPUT_DIR\u001b[0m \u001b[0;34m+\u001b[0m \u001b[0;34m'/config.yaml'\u001b[0m\u001b[0;34m)\u001b[0m\u001b[0;34m\u001b[0m\u001b[0;34m\u001b[0m\u001b[0m\n\u001b[0m\u001b[1;32m     15\u001b[0m \u001b[0mcfg\u001b[0m\u001b[0;34m.\u001b[0m\u001b[0mMODEL\u001b[0m\u001b[0;34m.\u001b[0m\u001b[0mWEIGHTS\u001b[0m \u001b[0;34m=\u001b[0m \u001b[0mos\u001b[0m\u001b[0;34m.\u001b[0m\u001b[0mpath\u001b[0m\u001b[0;34m.\u001b[0m\u001b[0mjoin\u001b[0m\u001b[0;34m(\u001b[0m\u001b[0mcfg\u001b[0m\u001b[0;34m.\u001b[0m\u001b[0mOUTPUT_DIR\u001b[0m\u001b[0;34m,\u001b[0m \u001b[0;34m\"model_0089999.pth\"\u001b[0m\u001b[0;34m)\u001b[0m\u001b[0;34m\u001b[0m\u001b[0;34m\u001b[0m\u001b[0m\n\u001b[1;32m     16\u001b[0m \u001b[0mcfg\u001b[0m\u001b[0;34m.\u001b[0m\u001b[0mMODEL\u001b[0m\u001b[0;34m.\u001b[0m\u001b[0mROI_HEADS\u001b[0m\u001b[0;34m.\u001b[0m\u001b[0mSCORE_THRESH_TEST\u001b[0m \u001b[0;34m=\u001b[0m \u001b[0;36m0.7\u001b[0m   \u001b[0;31m# set the testing threshold for this model\u001b[0m\u001b[0;34m\u001b[0m\u001b[0;34m\u001b[0m\u001b[0m\n",
      "\u001b[0;32m/detectron2_repo/detectron2/config/config.py\u001b[0m in \u001b[0;36mmerge_from_file\u001b[0;34m(self, cfg_filename, allow_unsafe)\u001b[0m\n\u001b[1;32m     23\u001b[0m     \u001b[0;31m# Note that the default value of allow_unsafe is changed to True\u001b[0m\u001b[0;34m\u001b[0m\u001b[0;34m\u001b[0m\u001b[0;34m\u001b[0m\u001b[0m\n\u001b[1;32m     24\u001b[0m     \u001b[0;32mdef\u001b[0m \u001b[0mmerge_from_file\u001b[0m\u001b[0;34m(\u001b[0m\u001b[0mself\u001b[0m\u001b[0;34m,\u001b[0m \u001b[0mcfg_filename\u001b[0m\u001b[0;34m:\u001b[0m \u001b[0mstr\u001b[0m\u001b[0;34m,\u001b[0m \u001b[0mallow_unsafe\u001b[0m\u001b[0;34m:\u001b[0m \u001b[0mbool\u001b[0m \u001b[0;34m=\u001b[0m \u001b[0;32mTrue\u001b[0m\u001b[0;34m)\u001b[0m \u001b[0;34m->\u001b[0m \u001b[0;32mNone\u001b[0m\u001b[0;34m:\u001b[0m\u001b[0;34m\u001b[0m\u001b[0;34m\u001b[0m\u001b[0m\n\u001b[0;32m---> 25\u001b[0;31m         \u001b[0;32massert\u001b[0m \u001b[0mPathManager\u001b[0m\u001b[0;34m.\u001b[0m\u001b[0misfile\u001b[0m\u001b[0;34m(\u001b[0m\u001b[0mcfg_filename\u001b[0m\u001b[0;34m)\u001b[0m\u001b[0;34m,\u001b[0m \u001b[0;34mf\"Config file '{cfg_filename}' does not exist!\"\u001b[0m\u001b[0;34m\u001b[0m\u001b[0;34m\u001b[0m\u001b[0m\n\u001b[0m\u001b[1;32m     26\u001b[0m         \u001b[0mloaded_cfg\u001b[0m \u001b[0;34m=\u001b[0m \u001b[0m_CfgNode\u001b[0m\u001b[0;34m.\u001b[0m\u001b[0mload_yaml_with_base\u001b[0m\u001b[0;34m(\u001b[0m\u001b[0mcfg_filename\u001b[0m\u001b[0;34m,\u001b[0m \u001b[0mallow_unsafe\u001b[0m\u001b[0;34m=\u001b[0m\u001b[0mallow_unsafe\u001b[0m\u001b[0;34m)\u001b[0m\u001b[0;34m\u001b[0m\u001b[0;34m\u001b[0m\u001b[0m\n\u001b[1;32m     27\u001b[0m         \u001b[0mloaded_cfg\u001b[0m \u001b[0;34m=\u001b[0m \u001b[0mtype\u001b[0m\u001b[0;34m(\u001b[0m\u001b[0mself\u001b[0m\u001b[0;34m)\u001b[0m\u001b[0;34m(\u001b[0m\u001b[0mloaded_cfg\u001b[0m\u001b[0;34m)\u001b[0m\u001b[0;34m\u001b[0m\u001b[0;34m\u001b[0m\u001b[0m\n",
      "\u001b[0;31mAssertionError\u001b[0m: Config file './logs/faster_rcnn_R_101_C4_3x/config.yaml' does not exist!"
     ]
    }
   ],
   "source": [
    "# test dataset img 저장\n",
    "from matplotlib import pyplot as plt\n",
    "from os import listdir\n",
    "from os.path import isfile, join\n",
    "from detectron2.config import get_cfg\n",
    "from detectron2.engine import DefaultPredictor\n",
    "from detectron2.data.datasets.coco import load_coco_json\n",
    "import os\n",
    "\n",
    "model_name = 'faster_rcnn_R_101_C4_3x'\n",
    "\n",
    "cfg = get_cfg()\n",
    "cfg.OUTPUT_DIR = './logs/' + model_name\n",
    "cfg.merge_from_file(cfg.OUTPUT_DIR + '/config.yaml')\n",
    "cfg.MODEL.WEIGHTS = os.path.join(cfg.OUTPUT_DIR, \"model_0089999.pth\")\n",
    "cfg.MODEL.ROI_HEADS.SCORE_THRESH_TEST = 0.7   # set the testing threshold for this model\n",
    "cfg.MODEL.ROI_HEADS.NUM_CLASSES = 10\n",
    "predictor = DefaultPredictor(cfg)"
   ]
  },
  {
   "cell_type": "code",
   "execution_count": 3,
   "metadata": {},
   "outputs": [],
   "source": [
    "def get_NormalBox(output):\n",
    "    \"\"\"\n",
    "    protobuf 통신을 위한 Detectron2 모델의 inference 결과를 반환하는 함수\n",
    "    \n",
    "    Arg:\n",
    "        output (Boxes class): model이 예측한 결과물\n",
    "    \n",
    "    Return:\n",
    "    \n",
    "    \"\"\"\n",
    "    t_pred_classes = output['instances'].pred_classes\n",
    "    classes = t_pred_classes.to(\"cpu\").numpy()\n",
    "    \n",
    "    t_score = output['instances'].scores\n",
    "    scores = t_score.to(\"cpu\").numpy()\n",
    "\n",
    "    t_boxes = output[\"instances\"].pred_boxes\n",
    "    bboxes = t_boxes.tensor.to(\"cpu\").numpy()\n",
    "    \n",
    "    for idx in classes:\n",
    "        res = get_info(bboxes[idx], classes[idx], scores[idx])\n",
    "        print(res)\n",
    "\n",
    "def get_info(bbox, class_id, score):\n",
    "    \"\"\"\n",
    "    Args를 취합하여 protobuf에 정의된 형식에 맞게 반환\n",
    "    \n",
    "    Args:\n",
    "        bbox (1D-list): bbox 정보\n",
    "        class_id (int): class id\n",
    "        score (int): confidence score\n",
    "    \n",
    "    Return:\n",
    "        1D-list: [xmin, ymin, xmax, ymax, class_info, score]\n",
    "        xmin (int32): bbox의 min x 좌표\n",
    "        ymin (int32): bbox의 min y 좌표\n",
    "        xmax (int32): bbox의 max x 좌표\n",
    "        ymax (int32): bbox의 max y 좌표\n",
    "        class_info (string): 숫자로 표현된 class ->\n",
    "                    Category에 정의된 dictionary를 이용해 string class로 바꿔줌\n",
    "        score (float): confidence score\n",
    "    \"\"\"\n",
    "    xmin = int(bbox[0])\n",
    "    ymin = int(bbox[1])\n",
    "    xmax = int(bbox[2])\n",
    "    ymax = int(bbox[3])\n",
    "    class_info = Category[class_id]\n",
    "   \n",
    "    return [xmin, ymin, xmax, ymax, class_info, score]"
   ]
  },
  {
   "cell_type": "code",
   "execution_count": 4,
   "metadata": {},
   "outputs": [
    {
     "name": "stdout",
     "output_type": "stream",
     "text": [
      "['/detectron2_repo/datasets/data_voucher_2019/group1/test_images/003431.jpg', '/detectron2_repo/datasets/data_voucher_2019/group1/test_images/003432.jpg', '/detectron2_repo/datasets/data_voucher_2019/group1/test_images/003433.jpg', '/detectron2_repo/datasets/data_voucher_2019/group1/test_images/003434.jpg', '/detectron2_repo/datasets/data_voucher_2019/group1/test_images/003435.jpg', '/detectron2_repo/datasets/data_voucher_2019/group1/test_images/003436.jpg', '/detectron2_repo/datasets/data_voucher_2019/group1/test_images/003437.jpg', '/detectron2_repo/datasets/data_voucher_2019/group1/test_images/003438.jpg', '/detectron2_repo/datasets/data_voucher_2019/group1/test_images/003439.jpg', '/detectron2_repo/datasets/data_voucher_2019/group1/test_images/003440.jpg', '/detectron2_repo/datasets/data_voucher_2019/group1/test_images/003441.jpg', '/detectron2_repo/datasets/data_voucher_2019/group1/test_images/003442.jpg', '/detectron2_repo/datasets/data_voucher_2019/group1/test_images/003443.jpg', '/detectron2_repo/datasets/data_voucher_2019/group1/test_images/003444.jpg', '/detectron2_repo/datasets/data_voucher_2019/group1/test_images/003445.jpg', '/detectron2_repo/datasets/data_voucher_2019/group1/test_images/003446.jpg', '/detectron2_repo/datasets/data_voucher_2019/group1/test_images/003447.jpg', '/detectron2_repo/datasets/data_voucher_2019/group1/test_images/003448.jpg', '/detectron2_repo/datasets/data_voucher_2019/group1/test_images/003449.jpg', '/detectron2_repo/datasets/data_voucher_2019/group1/test_images/003450.jpg', '/detectron2_repo/datasets/data_voucher_2019/group1/test_images/003451.jpg', '/detectron2_repo/datasets/data_voucher_2019/group1/test_images/003452.jpg', '/detectron2_repo/datasets/data_voucher_2019/group1/test_images/003453.jpg', '/detectron2_repo/datasets/data_voucher_2019/group1/test_images/003454.jpg', '/detectron2_repo/datasets/data_voucher_2019/group1/test_images/003455.jpg', '/detectron2_repo/datasets/data_voucher_2019/group1/test_images/003456.jpg', '/detectron2_repo/datasets/data_voucher_2019/group1/test_images/003457.jpg', '/detectron2_repo/datasets/data_voucher_2019/group1/test_images/003458.jpg', '/detectron2_repo/datasets/data_voucher_2019/group1/test_images/003459.jpg', '/detectron2_repo/datasets/data_voucher_2019/group1/test_images/003460.jpg', '/detectron2_repo/datasets/data_voucher_2019/group1/test_images/003461.jpg', '/detectron2_repo/datasets/data_voucher_2019/group1/test_images/003462.jpg', '/detectron2_repo/datasets/data_voucher_2019/group1/test_images/003463.jpg', '/detectron2_repo/datasets/data_voucher_2019/group1/test_images/003464.jpg', '/detectron2_repo/datasets/data_voucher_2019/group1/test_images/003465.jpg', '/detectron2_repo/datasets/data_voucher_2019/group1/test_images/003466.jpg', '/detectron2_repo/datasets/data_voucher_2019/group1/test_images/003467.jpg', '/detectron2_repo/datasets/data_voucher_2019/group1/test_images/003468.jpg', '/detectron2_repo/datasets/data_voucher_2019/group1/test_images/003469.jpg', '/detectron2_repo/datasets/data_voucher_2019/group1/test_images/003470.jpg']\n"
     ]
    }
   ],
   "source": [
    "import os\n",
    "import cv2\n",
    "import random\n",
    "from matplotlib import pyplot as plt\n",
    "\n",
    "root_dir = \"/detectron2_repo/datasets/data_voucher_2019\"\n",
    "group_dir = join(root_dir, \"group1\")\n",
    "json_file = join(root_dir, group_dir, \"annotations_json/instances_val.json\")\n",
    "image_root = join(root_dir, group_dir, \"test_images\")\n",
    "\n",
    "img_list = [join(image_root, f) for f in sorted(listdir(image_root))]\n",
    "print(img_list)"
   ]
  },
  {
   "cell_type": "code",
   "execution_count": 7,
   "metadata": {},
   "outputs": [
    {
     "ename": "AttributeError",
     "evalue": "'dict' object has no attribute 'inference'",
     "output_type": "error",
     "traceback": [
      "\u001b[0;31m-------------------------------------------------\u001b[0m",
      "\u001b[0;31mAttributeError\u001b[0m  Traceback (most recent call last)",
      "\u001b[0;32m<ipython-input-7-2aff699dfdeb>\u001b[0m in \u001b[0;36m<module>\u001b[0;34m\u001b[0m\n\u001b[1;32m      3\u001b[0m     \u001b[0mim\u001b[0m \u001b[0;34m=\u001b[0m \u001b[0mcv2\u001b[0m\u001b[0;34m.\u001b[0m\u001b[0mresize\u001b[0m\u001b[0;34m(\u001b[0m\u001b[0mim\u001b[0m\u001b[0;34m,\u001b[0m \u001b[0;34m(\u001b[0m\u001b[0;36m660\u001b[0m\u001b[0;34m,\u001b[0m \u001b[0;36m585\u001b[0m\u001b[0;34m)\u001b[0m\u001b[0;34m)\u001b[0m\u001b[0;34m\u001b[0m\u001b[0;34m\u001b[0m\u001b[0m\n\u001b[1;32m      4\u001b[0m     \u001b[0moutput\u001b[0m \u001b[0;34m=\u001b[0m \u001b[0mpredictor\u001b[0m\u001b[0;34m(\u001b[0m\u001b[0mim\u001b[0m\u001b[0;34m)\u001b[0m\u001b[0;34m\u001b[0m\u001b[0;34m\u001b[0m\u001b[0m\n\u001b[0;32m----> 5\u001b[0;31m     print(output.inference( \n\u001b[0m\u001b[1;32m      6\u001b[0m      \u001b[0;36m0.7\u001b[0m\u001b[0;34m,\u001b[0m \u001b[0;36m0.7\u001b[0m\u001b[0;34m,\u001b[0m \u001b[0;36m100\u001b[0m\u001b[0;34m\u001b[0m\u001b[0;34m\u001b[0m\u001b[0m\n\u001b[1;32m      7\u001b[0m  ) )\n",
      "\u001b[0;31mAttributeError\u001b[0m: 'dict' object has no attribute 'inference'"
     ]
    }
   ],
   "source": [
    "for img_dir in random.sample(img_list, 1):    \n",
    "    im = cv2.imread(img_dir)\n",
    "    im = cv2.resize(im, (660, 585))\n",
    "    output = predictor(im)\n",
    "  \n",
    "    get_NormalBox(output)"
   ]
  },
  {
   "cell_type": "code",
   "execution_count": null,
   "metadata": {},
   "outputs": [],
   "source": [
    "# 요청한 함수\n",
    "product_list = [\"Samdasoo_pet\",\n",
    "                \"CornsilkTea_pet\",\n",
    "                \"Cocacola_can\",]\n",
    "\n",
    "\n",
    "def softmax_func(output, product_list):\n",
    "    \"\"\"\n",
    "    Detectron2가 예측한 전체 클래스별 확률값을\n",
    "    product_list에 있는 클래스별 확률값으로 변환시킴\n",
    "    \n",
    "    Args:\n",
    "        output (dict): Detectron2가 예측한 전체 클래스별 확률값\n",
    "        product_list (list): 물품의 리스트 \n",
    "    \"\"\"\n",
    "    print(output['instances'])\n",
    "\n",
    "prediction_result = softmax_func(output, product_list)"
   ]
  },
  {
   "cell_type": "code",
   "execution_count": null,
   "metadata": {},
   "outputs": [],
   "source": [
    "# 결과 확인\n",
    "t_pred_classes = output['instances'].pred_classes\n",
    "classes = t_pred_classes.to(\"cpu\").numpy()\n",
    "    \n",
    "t_score = output['instances'].scores\n",
    "scores = t_score.to(\"cpu\").numpy()\n",
    "\n",
    "t_boxes = output[\"instances\"].pred_boxes\n",
    "bboxes = t_boxes.tensor.to(\"cpu\").numpy()\n",
    "\n",
    "im = cv2.cvtColor(im, cv2.COLOR_BGR2RGB)\n",
    "\n",
    "for idx in range(len(classes)):\n",
    "    res = get_info(bboxes[idx], classes[idx], scores[idx])\n",
    "    print(res)\n",
    "    im = cv2.rectangle(im, (res[0], res[1]), (res[2], res[3]), color=(0, 0, 0))\n",
    "    \n",
    "plt.imshow(im)"
   ]
  },
  {
   "cell_type": "code",
   "execution_count": null,
   "metadata": {},
   "outputs": [],
   "source": [
    "print(type(output))"
   ]
  },
  {
   "cell_type": "code",
   "execution_count": null,
   "metadata": {},
   "outputs": [],
   "source": [
    "output.keys()"
   ]
  },
  {
   "cell_type": "code",
   "execution_count": null,
   "metadata": {},
   "outputs": [],
   "source": [
    "instances = output['instances']\n",
    "print(instances)"
   ]
  },
  {
   "cell_type": "code",
   "execution_count": null,
   "metadata": {},
   "outputs": [],
   "source": []
  },
  {
   "cell_type": "code",
   "execution_count": null,
   "metadata": {},
   "outputs": [],
   "source": [
    "print(*instances.pred_boxes[0].tensor.to('cpu').numpy()[0])"
   ]
  },
  {
   "cell_type": "code",
   "execution_count": null,
   "metadata": {},
   "outputs": [],
   "source": [
    "len(instances)"
   ]
  }
 ],
 "metadata": {
  "kernelspec": {
   "display_name": "Python 3",
   "language": "python",
   "name": "python3"
  },
  "language_info": {
   "codemirror_mode": {
    "name": "ipython",
    "version": 3
   },
   "file_extension": ".py",
   "mimetype": "text/x-python",
   "name": "python",
   "nbconvert_exporter": "python",
   "pygments_lexer": "ipython3",
   "version": "3.6.9"
  }
 },
 "nbformat": 4,
 "nbformat_minor": 4
}
