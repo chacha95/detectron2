{
 "cells": [
  {
   "cell_type": "code",
   "execution_count": 69,
   "metadata": {},
   "outputs": [],
   "source": [
    "import os\n",
    "import sys\n",
    "import torch\n",
    "import cv2\n",
    "import numpy as np"
   ]
  },
  {
   "cell_type": "code",
   "execution_count": 70,
   "metadata": {},
   "outputs": [],
   "source": [
    "sys.path.append('/home/changseok_test/')"
   ]
  },
  {
   "cell_type": "code",
   "execution_count": 71,
   "metadata": {},
   "outputs": [],
   "source": [
    "from DTAPI import DTAPI"
   ]
  },
  {
   "cell_type": "code",
   "execution_count": 109,
   "metadata": {},
   "outputs": [],
   "source": [
    "data = open('sample.jpeg', 'rb').read()"
   ]
  },
  {
   "cell_type": "code",
   "execution_count": 119,
   "metadata": {},
   "outputs": [
    {
     "name": "stderr",
     "output_type": "stream",
     "text": [
      "/usr/local/lib/python3.6/dist-packages/ipykernel_launcher.py:1: DeprecationWarning: The binary mode of fromstring is deprecated, as it behaves surprisingly on unicode inputs. Use frombuffer instead\n",
      "  \"\"\"Entry point for launching an IPython kernel.\n"
     ]
    }
   ],
   "source": [
    "nparr = np.fromstring(data, np.uint8)\n",
    "im = cv2.imdecode(nparr, cv2.IMREAD_COLOR)\n",
    "original_image = cv2.resize(im, (660, 585))"
   ]
  },
  {
   "cell_type": "code",
   "execution_count": 113,
   "metadata": {},
   "outputs": [
    {
     "name": "stdout",
     "output_type": "stream",
     "text": [
      "initialize Detectron2 API\n"
     ]
    }
   ],
   "source": [
    "model = DTAPI().predictor.model.cpu()"
   ]
  },
  {
   "cell_type": "code",
   "execution_count": 116,
   "metadata": {},
   "outputs": [
    {
     "name": "stdout",
     "output_type": "stream",
     "text": [
      "initialize Detectron2 API\n"
     ]
    }
   ],
   "source": [
    "detector = DTAPI().predictor\n"
   ]
  },
  {
   "cell_type": "code",
   "execution_count": 124,
   "metadata": {},
   "outputs": [
    {
     "name": "stdout",
     "output_type": "stream",
     "text": [
      "initialize Detectron2 API\n"
     ]
    }
   ],
   "source": [
    "height, width = original_image.shape[:2]\n",
    "image = DTAPI().predictor.transform_gen.get_transform(original_image).apply_image(original_image)\n",
    "image = torch.as_tensor(image.astype(\"float32\").transpose(2, 0, 1))\n",
    "\n",
    "inputs = {\"image\": image, \"height\": height, \"width\": width}\n",
    "predictions = model([inputs])\n"
   ]
  },
  {
   "cell_type": "code",
   "execution_count": 125,
   "metadata": {},
   "outputs": [
    {
     "data": {
      "text/plain": [
       "[{'instances': Instances(num_instances=8, image_height=585, image_width=660, fields=[pred_boxes: Boxes(tensor([[185.7975, 229.4066, 232.8143, 295.1257],\n",
       "          [351.4944, 168.1542, 426.0967, 269.1182],\n",
       "          [ 96.2169, 239.3378, 165.4768, 347.4711],\n",
       "          [525.2068,  62.4099, 594.3143, 118.1473],\n",
       "          [105.6073, 331.6575, 175.1107, 418.1270],\n",
       "          [495.0436, 129.3630, 548.1937, 171.9452],\n",
       "          [249.2836, 211.2967, 296.1834, 277.2096],\n",
       "          [180.8440, 283.0240, 248.4548, 361.8343]], grad_fn=<IndexBackward>)), scores: tensor([0.9852, 0.9744, 0.8994, 0.8982, 0.8594, 0.8442, 0.8020, 0.7657],\n",
       "         grad_fn=<IndexBackward>), pred_classes: tensor([2, 2, 2, 2, 2, 2, 2, 2])])}]"
      ]
     },
     "execution_count": 125,
     "metadata": {},
     "output_type": "execute_result"
    }
   ],
   "source": [
    "predictions"
   ]
  },
  {
   "cell_type": "code",
   "execution_count": 126,
   "metadata": {},
   "outputs": [
    {
     "name": "stdout",
     "output_type": "stream",
     "text": [
      "\n",
      "backbone\n",
      "backbone.stem\n",
      "backbone.stem.conv1\n",
      "backbone.stem.conv1.norm\n",
      "backbone.res2\n",
      "backbone.res2.0\n",
      "backbone.res2.0.shortcut\n",
      "backbone.res2.0.shortcut.norm\n",
      "backbone.res2.0.conv1\n",
      "backbone.res2.0.conv1.norm\n",
      "backbone.res2.0.conv2\n",
      "backbone.res2.0.conv2.norm\n",
      "backbone.res2.0.conv3\n",
      "backbone.res2.0.conv3.norm\n",
      "backbone.res2.1\n",
      "backbone.res2.1.conv1\n",
      "backbone.res2.1.conv1.norm\n",
      "backbone.res2.1.conv2\n",
      "backbone.res2.1.conv2.norm\n",
      "backbone.res2.1.conv3\n",
      "backbone.res2.1.conv3.norm\n",
      "backbone.res2.2\n",
      "backbone.res2.2.conv1\n",
      "backbone.res2.2.conv1.norm\n",
      "backbone.res2.2.conv2\n",
      "backbone.res2.2.conv2.norm\n",
      "backbone.res2.2.conv3\n",
      "backbone.res2.2.conv3.norm\n",
      "backbone.res3\n",
      "backbone.res3.0\n",
      "backbone.res3.0.shortcut\n",
      "backbone.res3.0.shortcut.norm\n",
      "backbone.res3.0.conv1\n",
      "backbone.res3.0.conv1.norm\n",
      "backbone.res3.0.conv2\n",
      "backbone.res3.0.conv2.norm\n",
      "backbone.res3.0.conv3\n",
      "backbone.res3.0.conv3.norm\n",
      "backbone.res3.1\n",
      "backbone.res3.1.conv1\n",
      "backbone.res3.1.conv1.norm\n",
      "backbone.res3.1.conv2\n",
      "backbone.res3.1.conv2.norm\n",
      "backbone.res3.1.conv3\n",
      "backbone.res3.1.conv3.norm\n",
      "backbone.res3.2\n",
      "backbone.res3.2.conv1\n",
      "backbone.res3.2.conv1.norm\n",
      "backbone.res3.2.conv2\n",
      "backbone.res3.2.conv2.norm\n",
      "backbone.res3.2.conv3\n",
      "backbone.res3.2.conv3.norm\n",
      "backbone.res3.3\n",
      "backbone.res3.3.conv1\n",
      "backbone.res3.3.conv1.norm\n",
      "backbone.res3.3.conv2\n",
      "backbone.res3.3.conv2.norm\n",
      "backbone.res3.3.conv3\n",
      "backbone.res3.3.conv3.norm\n",
      "backbone.res4\n",
      "backbone.res4.0\n",
      "backbone.res4.0.shortcut\n",
      "backbone.res4.0.shortcut.norm\n",
      "backbone.res4.0.conv1\n",
      "backbone.res4.0.conv1.norm\n",
      "backbone.res4.0.conv2\n",
      "backbone.res4.0.conv2.norm\n",
      "backbone.res4.0.conv3\n",
      "backbone.res4.0.conv3.norm\n",
      "backbone.res4.1\n",
      "backbone.res4.1.conv1\n",
      "backbone.res4.1.conv1.norm\n",
      "backbone.res4.1.conv2\n",
      "backbone.res4.1.conv2.norm\n",
      "backbone.res4.1.conv3\n",
      "backbone.res4.1.conv3.norm\n",
      "backbone.res4.2\n",
      "backbone.res4.2.conv1\n",
      "backbone.res4.2.conv1.norm\n",
      "backbone.res4.2.conv2\n",
      "backbone.res4.2.conv2.norm\n",
      "backbone.res4.2.conv3\n",
      "backbone.res4.2.conv3.norm\n",
      "backbone.res4.3\n",
      "backbone.res4.3.conv1\n",
      "backbone.res4.3.conv1.norm\n",
      "backbone.res4.3.conv2\n",
      "backbone.res4.3.conv2.norm\n",
      "backbone.res4.3.conv3\n",
      "backbone.res4.3.conv3.norm\n",
      "backbone.res4.4\n",
      "backbone.res4.4.conv1\n",
      "backbone.res4.4.conv1.norm\n",
      "backbone.res4.4.conv2\n",
      "backbone.res4.4.conv2.norm\n",
      "backbone.res4.4.conv3\n",
      "backbone.res4.4.conv3.norm\n",
      "backbone.res4.5\n",
      "backbone.res4.5.conv1\n",
      "backbone.res4.5.conv1.norm\n",
      "backbone.res4.5.conv2\n",
      "backbone.res4.5.conv2.norm\n",
      "backbone.res4.5.conv3\n",
      "backbone.res4.5.conv3.norm\n",
      "backbone.res4.6\n",
      "backbone.res4.6.conv1\n",
      "backbone.res4.6.conv1.norm\n",
      "backbone.res4.6.conv2\n",
      "backbone.res4.6.conv2.norm\n",
      "backbone.res4.6.conv3\n",
      "backbone.res4.6.conv3.norm\n",
      "backbone.res4.7\n",
      "backbone.res4.7.conv1\n",
      "backbone.res4.7.conv1.norm\n",
      "backbone.res4.7.conv2\n",
      "backbone.res4.7.conv2.norm\n",
      "backbone.res4.7.conv3\n",
      "backbone.res4.7.conv3.norm\n",
      "backbone.res4.8\n",
      "backbone.res4.8.conv1\n",
      "backbone.res4.8.conv1.norm\n",
      "backbone.res4.8.conv2\n",
      "backbone.res4.8.conv2.norm\n",
      "backbone.res4.8.conv3\n",
      "backbone.res4.8.conv3.norm\n",
      "backbone.res4.9\n",
      "backbone.res4.9.conv1\n",
      "backbone.res4.9.conv1.norm\n",
      "backbone.res4.9.conv2\n",
      "backbone.res4.9.conv2.norm\n",
      "backbone.res4.9.conv3\n",
      "backbone.res4.9.conv3.norm\n",
      "backbone.res4.10\n",
      "backbone.res4.10.conv1\n",
      "backbone.res4.10.conv1.norm\n",
      "backbone.res4.10.conv2\n",
      "backbone.res4.10.conv2.norm\n",
      "backbone.res4.10.conv3\n",
      "backbone.res4.10.conv3.norm\n",
      "backbone.res4.11\n",
      "backbone.res4.11.conv1\n",
      "backbone.res4.11.conv1.norm\n",
      "backbone.res4.11.conv2\n",
      "backbone.res4.11.conv2.norm\n",
      "backbone.res4.11.conv3\n",
      "backbone.res4.11.conv3.norm\n",
      "backbone.res4.12\n",
      "backbone.res4.12.conv1\n",
      "backbone.res4.12.conv1.norm\n",
      "backbone.res4.12.conv2\n",
      "backbone.res4.12.conv2.norm\n",
      "backbone.res4.12.conv3\n",
      "backbone.res4.12.conv3.norm\n",
      "backbone.res4.13\n",
      "backbone.res4.13.conv1\n",
      "backbone.res4.13.conv1.norm\n",
      "backbone.res4.13.conv2\n",
      "backbone.res4.13.conv2.norm\n",
      "backbone.res4.13.conv3\n",
      "backbone.res4.13.conv3.norm\n",
      "backbone.res4.14\n",
      "backbone.res4.14.conv1\n",
      "backbone.res4.14.conv1.norm\n",
      "backbone.res4.14.conv2\n",
      "backbone.res4.14.conv2.norm\n",
      "backbone.res4.14.conv3\n",
      "backbone.res4.14.conv3.norm\n",
      "backbone.res4.15\n",
      "backbone.res4.15.conv1\n",
      "backbone.res4.15.conv1.norm\n",
      "backbone.res4.15.conv2\n",
      "backbone.res4.15.conv2.norm\n",
      "backbone.res4.15.conv3\n",
      "backbone.res4.15.conv3.norm\n",
      "backbone.res4.16\n",
      "backbone.res4.16.conv1\n",
      "backbone.res4.16.conv1.norm\n",
      "backbone.res4.16.conv2\n",
      "backbone.res4.16.conv2.norm\n",
      "backbone.res4.16.conv3\n",
      "backbone.res4.16.conv3.norm\n",
      "backbone.res4.17\n",
      "backbone.res4.17.conv1\n",
      "backbone.res4.17.conv1.norm\n",
      "backbone.res4.17.conv2\n",
      "backbone.res4.17.conv2.norm\n",
      "backbone.res4.17.conv3\n",
      "backbone.res4.17.conv3.norm\n",
      "backbone.res4.18\n",
      "backbone.res4.18.conv1\n",
      "backbone.res4.18.conv1.norm\n",
      "backbone.res4.18.conv2\n",
      "backbone.res4.18.conv2.norm\n",
      "backbone.res4.18.conv3\n",
      "backbone.res4.18.conv3.norm\n",
      "backbone.res4.19\n",
      "backbone.res4.19.conv1\n",
      "backbone.res4.19.conv1.norm\n",
      "backbone.res4.19.conv2\n",
      "backbone.res4.19.conv2.norm\n",
      "backbone.res4.19.conv3\n",
      "backbone.res4.19.conv3.norm\n",
      "backbone.res4.20\n",
      "backbone.res4.20.conv1\n",
      "backbone.res4.20.conv1.norm\n",
      "backbone.res4.20.conv2\n",
      "backbone.res4.20.conv2.norm\n",
      "backbone.res4.20.conv3\n",
      "backbone.res4.20.conv3.norm\n",
      "backbone.res4.21\n",
      "backbone.res4.21.conv1\n",
      "backbone.res4.21.conv1.norm\n",
      "backbone.res4.21.conv2\n",
      "backbone.res4.21.conv2.norm\n",
      "backbone.res4.21.conv3\n",
      "backbone.res4.21.conv3.norm\n",
      "backbone.res4.22\n",
      "backbone.res4.22.conv1\n",
      "backbone.res4.22.conv1.norm\n",
      "backbone.res4.22.conv2\n",
      "backbone.res4.22.conv2.norm\n",
      "backbone.res4.22.conv3\n",
      "backbone.res4.22.conv3.norm\n",
      "proposal_generator\n",
      "proposal_generator.anchor_generator\n",
      "proposal_generator.anchor_generator.cell_anchors\n",
      "proposal_generator.rpn_head\n",
      "proposal_generator.rpn_head.conv\n",
      "proposal_generator.rpn_head.objectness_logits\n",
      "proposal_generator.rpn_head.anchor_deltas\n",
      "roi_heads\n",
      "roi_heads.pooler\n",
      "roi_heads.pooler.level_poolers\n",
      "roi_heads.pooler.level_poolers.0\n",
      "roi_heads.res5\n",
      "roi_heads.res5.0\n",
      "roi_heads.res5.0.shortcut\n",
      "roi_heads.res5.0.shortcut.norm\n",
      "roi_heads.res5.0.conv1\n",
      "roi_heads.res5.0.conv1.norm\n",
      "roi_heads.res5.0.conv2\n",
      "roi_heads.res5.0.conv2.norm\n",
      "roi_heads.res5.0.conv3\n",
      "roi_heads.res5.0.conv3.norm\n",
      "roi_heads.res5.1\n",
      "roi_heads.res5.1.conv1\n",
      "roi_heads.res5.1.conv1.norm\n",
      "roi_heads.res5.1.conv2\n",
      "roi_heads.res5.1.conv2.norm\n",
      "roi_heads.res5.1.conv3\n",
      "roi_heads.res5.1.conv3.norm\n",
      "roi_heads.res5.2\n",
      "roi_heads.res5.2.conv1\n",
      "roi_heads.res5.2.conv1.norm\n",
      "roi_heads.res5.2.conv2\n",
      "roi_heads.res5.2.conv2.norm\n",
      "roi_heads.res5.2.conv3\n",
      "roi_heads.res5.2.conv3.norm\n",
      "roi_heads.box_predictor\n",
      "roi_heads.box_predictor.cls_score\n",
      "roi_heads.box_predictor.bbox_pred\n"
     ]
    }
   ],
   "source": [
    "for i, j in model.named_modules():\n",
    "    print(i)"
   ]
  },
  {
   "cell_type": "code",
   "execution_count": 127,
   "metadata": {},
   "outputs": [
    {
     "data": {
      "text/plain": [
       "Linear(in_features=2048, out_features=11, bias=True)"
      ]
     },
     "execution_count": 127,
     "metadata": {},
     "output_type": "execute_result"
    }
   ],
   "source": [
    "model.roi_heads.box_predictor.cls_score"
   ]
  },
  {
   "cell_type": "code",
   "execution_count": null,
   "metadata": {},
   "outputs": [],
   "source": [
    "model."
   ]
  }
 ],
 "metadata": {
  "kernelspec": {
   "display_name": "Python 3",
   "language": "python",
   "name": "python3"
  },
  "language_info": {
   "codemirror_mode": {
    "name": "ipython",
    "version": 3
   },
   "file_extension": ".py",
   "mimetype": "text/x-python",
   "name": "python",
   "nbconvert_exporter": "python",
   "pygments_lexer": "ipython3",
   "version": "3.6.9"
  }
 },
 "nbformat": 4,
 "nbformat_minor": 4
}
